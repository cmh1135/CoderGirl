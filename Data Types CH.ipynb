{
 "cells": [
  {
   "cell_type": "markdown",
   "id": "776792bf",
   "metadata": {},
   "source": [
    "# Data Types "
   ]
  },
  {
   "cell_type": "markdown",
   "id": "07d38621",
   "metadata": {},
   "source": [
    "# a. Numeric "
   ]
  },
  {
   "cell_type": "code",
   "execution_count": null,
   "id": "ae3a98a1",
   "metadata": {},
   "outputs": [],
   "source": [
    "# Integers are whole numbers; positive and or negative including zero\n",
    "x = -2\n",
    "# Floats  are fractions of a number i.e. numbers w/ decimals \n",
    "y = 2.758"
   ]
  },
  {
   "cell_type": "code",
   "execution_count": 4,
   "id": "e62d8f7b",
   "metadata": {
    "scrolled": true
   },
   "outputs": [
    {
     "name": "stdout",
     "output_type": "stream",
     "text": [
      "<class 'int'>\n",
      "<class 'float'>\n",
      "-2\n",
      "2.758\n"
     ]
    }
   ],
   "source": [
    "print(type(x))\n",
    "print(type(y))\n",
    "int=-2\n",
    "float=2.758\n",
    "print(int)\n",
    "print(float)"
   ]
  },
  {
   "cell_type": "markdown",
   "id": "93738eac",
   "metadata": {},
   "source": [
    "# b. Dictionaries "
   ]
  },
  {
   "cell_type": "code",
   "execution_count": 6,
   "id": "5dda8e29",
   "metadata": {},
   "outputs": [
    {
     "name": "stdout",
     "output_type": "stream",
     "text": [
      "35\n",
      "32\n"
     ]
    }
   ],
   "source": [
    "# Dictionaries are a collection/group of objects made up of keys and values  \n",
    "CoderGirl = {\"data_science\":35, \"SQL\":34, \"data_analysis\":33, \"salesforce\":32}\n",
    "print(CoderGirl[\"data_science\"])\n",
    "print(CoderGirl[\"salesforce\"])"
   ]
  },
  {
   "cell_type": "markdown",
   "id": "8fa34605",
   "metadata": {},
   "source": [
    "# c. Boolean "
   ]
  },
  {
   "cell_type": "code",
   "execution_count": 51,
   "id": "73cb6a3d",
   "metadata": {},
   "outputs": [
    {
     "name": "stdout",
     "output_type": "stream",
     "text": [
      "<class 'bool'>\n",
      "<class 'bool'>\n",
      "<class 'bool'>\n"
     ]
    }
   ],
   "source": [
    "# Boolean are variables that produce one of two values; either true or false (capitalization of T and F needed)\n",
    "print(type(True))\n",
    "print(type(False))\n",
    "Earth_is_flat = False \n",
    "print(type(Earth_is_flat)) "
   ]
  },
  {
   "cell_type": "markdown",
   "id": "a5690ba2",
   "metadata": {},
   "source": [
    "# d. Sequence "
   ]
  },
  {
   "cell_type": "code",
   "execution_count": 31,
   "id": "2d171bd0",
   "metadata": {},
   "outputs": [
    {
     "name": "stdout",
     "output_type": "stream",
     "text": [
      "I Love Me\n",
      "In west philidephia born and raised, on the playground is where I spent post of my days...\n",
      "<class 'str'>\n"
     ]
    }
   ],
   "source": [
    "# String are a colletion of characters inside of one set of quotes (immutable)('',\"\" or '''''')\n",
    "stringA = \"I Love Me\" \n",
    "stringB = '''In west philidephia born and raised, on the playground is where I spent post of my days...'''\n",
    "print(stringA)\n",
    "print(stringB)\n",
    "print(type(stringA))"
   ]
  },
  {
   "cell_type": "code",
   "execution_count": 63,
   "id": "02b5958e",
   "metadata": {},
   "outputs": [
    {
     "data": {
      "text/plain": [
       "'Bently'"
      ]
     },
     "execution_count": 63,
     "metadata": {},
     "output_type": "execute_result"
    }
   ],
   "source": [
    "#Tuples group multiple objects in to one value; seperated by commas set can not be modified \n",
    "car_tuple = (\"BMW\",\"Porsche\",\"Bently\") \n",
    "car_tuple[2]"
   ]
  },
  {
   "cell_type": "code",
   "execution_count": 36,
   "id": "a45782d5",
   "metadata": {},
   "outputs": [
    {
     "name": "stdout",
     "output_type": "stream",
     "text": [
      "Porsche\n"
     ]
    }
   ],
   "source": [
    "print(car_tuple[1]) "
   ]
  },
  {
   "cell_type": "code",
   "execution_count": 47,
   "id": "babac2ba",
   "metadata": {},
   "outputs": [
    {
     "name": "stdout",
     "output_type": "stream",
     "text": [
      "['arch', 'MO', 'arches', 'UT']\n",
      "arch\n"
     ]
    },
    {
     "data": {
      "text/plain": [
       "'arches'"
      ]
     },
     "execution_count": 47,
     "metadata": {},
     "output_type": "execute_result"
    }
   ],
   "source": [
    "#Lists are ordered pieces of data (changable)\n",
    "nationalparks_states = [\"arch\", \"MO\", \"arches\", \"UT\"]\n",
    "\n",
    "print(nationalparks_states)\n",
    "print(nationalparks_states[0])\n",
    "nationalparks_states[2]"
   ]
  },
  {
   "cell_type": "markdown",
   "id": "9ff04534",
   "metadata": {},
   "source": [
    "# e. Set"
   ]
  },
  {
   "cell_type": "code",
   "execution_count": 62,
   "id": "a0e0f563",
   "metadata": {},
   "outputs": [
    {
     "name": "stdout",
     "output_type": "stream",
     "text": [
      "{'orange', 'flag', 'candle'}\n",
      "{'apple', 'candle', 'flag'}\n",
      "{'my', 'cakeday', 1, 9}\n"
     ]
    }
   ],
   "source": [
    "#Set is a unordered string of objects that can not contain duplicates\n",
    "set1 = set((\"orange\", \"flag\", \"candle\")) \n",
    "print(set1)\n",
    "set2 = {\"apple\", \"flag\", \"candle\"}\n",
    "print(set2)\n",
    "set3 = set([\"my\", \"cakeday\", 1, 9])\n",
    "print(set3)\n"
   ]
  }
 ],
 "metadata": {
  "kernelspec": {
   "display_name": "Python 3 (ipykernel)",
   "language": "python",
   "name": "python3"
  },
  "language_info": {
   "codemirror_mode": {
    "name": "ipython",
    "version": 3
   },
   "file_extension": ".py",
   "mimetype": "text/x-python",
   "name": "python",
   "nbconvert_exporter": "python",
   "pygments_lexer": "ipython3",
   "version": "3.9.7"
  }
 },
 "nbformat": 4,
 "nbformat_minor": 5
}
